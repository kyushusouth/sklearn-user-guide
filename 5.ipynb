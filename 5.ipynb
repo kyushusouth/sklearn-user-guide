{
 "cells": [
  {
   "cell_type": "code",
   "execution_count": 1,
   "metadata": {},
   "outputs": [],
   "source": [
    "import shutil\n",
    "import tempfile\n",
    "\n",
    "import matplotlib.pyplot as plt\n",
    "import numpy as np\n",
    "from joblib import Memory\n",
    "from scipy import linalg, ndimage\n",
    "\n",
    "from sklearn import feature_selection\n",
    "from sklearn.cluster import FeatureAgglomeration\n",
    "from sklearn.feature_extraction.image import grid_to_graph\n",
    "from sklearn.linear_model import BayesianRidge\n",
    "from sklearn.model_selection import GridSearchCV, KFold\n",
    "from sklearn.pipeline import Pipeline"
   ]
  },
  {
   "cell_type": "code",
   "execution_count": null,
   "metadata": {},
   "outputs": [],
   "source": [
    "n_samples = 200\n",
    "size = 40  # image size\n",
    "roi_size = 15\n",
    "snr = 5.0\n",
    "np.random.seed(0)\n",
    "\n",
    "coef = np.zeros((size, size))\n",
    "coef[0:roi_size, 0:roi_size] = -1.0\n",
    "coef[-roi_size:, -roi_size:] = 1.0\n",
    "\n",
    "X = np.random.randn(n_samples, size**2)\n",
    "for x in X:  # smooth data\n",
    "    x[:] = ndimage.gaussian_filter(x.reshape(size, size), sigma=1.0).ravel()\n",
    "X -= X.mean(axis=0)\n",
    "X /= X.std(axis=0)\n",
    "\n",
    "y = np.dot(X, coef.ravel())\n",
    "\n",
    "noise = np.random.randn(y.shape[0])\n",
    "noise_coef = (linalg.norm(y, 2) / np.exp(snr / 20.0)) / linalg.norm(noise, 2)\n",
    "y += noise_coef * noise"
   ]
  }
 ],
 "metadata": {
  "kernelspec": {
   "display_name": ".venv",
   "language": "python",
   "name": "python3"
  },
  "language_info": {
   "codemirror_mode": {
    "name": "ipython",
    "version": 3
   },
   "file_extension": ".py",
   "mimetype": "text/x-python",
   "name": "python",
   "nbconvert_exporter": "python",
   "pygments_lexer": "ipython3",
   "version": "3.12.2"
  }
 },
 "nbformat": 4,
 "nbformat_minor": 2
}
