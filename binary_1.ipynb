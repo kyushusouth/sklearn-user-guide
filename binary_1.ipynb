{
 "cells": [
  {
   "cell_type": "code",
   "execution_count": 57,
   "metadata": {},
   "outputs": [],
   "source": [
    "import hydra\n",
    "import matplotlib.pyplot as plt\n",
    "import numpy as np\n",
    "import polars as pl\n",
    "import seaborn as sns\n",
    "from sklearn.compose import ColumnTransformer\n",
    "from sklearn.linear_model import LogisticRegression\n",
    "from sklearn.model_selection import cross_val_score, train_test_split\n",
    "from sklearn.preprocessing import OneHotEncoder, OrdinalEncoder\n",
    "\n",
    "from binary_1 import fit_onehot_encoders, fit_ordinal_encoders, fit_scalers\n",
    "\n",
    "sns.set_style(\"whitegrid\")\n",
    "\n",
    "with hydra.initialize(version_base=None, config_path=\"./conf\"):\n",
    "    cfg = hydra.compose(config_name=\"test\")"
   ]
  },
  {
   "cell_type": "code",
   "execution_count": null,
   "metadata": {},
   "outputs": [],
   "source": [
    "df = pl.read_csv(cfg.data.csv_path)\n",
    "df = df.rename(lambda x: x.replace(\" \", \"_\"))\n",
    "df = df.cast({col: pl.String for col in cfg.data.cat_col_list})\n",
    "df = df.cast({col: pl.Categorical for col in cfg.data.cat_col_list})\n",
    "\n",
    "df_train, df_test = train_test_split(\n",
    "    df,\n",
    "    test_size=cfg.train_test_split.test_size,\n",
    "    random_state=cfg.seed,\n",
    "    shuffle=cfg.train_test_split.shuffle,\n",
    "    stratify=df.select(pl.col(\"target\")),\n",
    ")\n"
   ]
  }
 ],
 "metadata": {
  "kernelspec": {
   "display_name": ".venv",
   "language": "python",
   "name": "python3"
  },
  "language_info": {
   "codemirror_mode": {
    "name": "ipython",
    "version": 3
   },
   "file_extension": ".py",
   "mimetype": "text/x-python",
   "name": "python",
   "nbconvert_exporter": "python",
   "pygments_lexer": "ipython3",
   "version": "3.12.2"
  }
 },
 "nbformat": 4,
 "nbformat_minor": 2
}
